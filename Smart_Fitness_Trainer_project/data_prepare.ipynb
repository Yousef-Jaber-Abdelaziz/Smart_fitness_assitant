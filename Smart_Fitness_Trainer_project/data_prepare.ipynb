{
 "cells": [
  {
   "cell_type": "code",
   "execution_count": 32,
   "metadata": {},
   "outputs": [
    {
     "name": "stderr",
     "output_type": "stream",
     "text": [
      "c:\\Users\\aboen\\anaconda3\\lib\\site-packages\\google\\protobuf\\symbol_database.py:55: UserWarning: SymbolDatabase.GetPrototype() is deprecated. Please use message_factory.GetMessageClass() instead. SymbolDatabase.GetPrototype() will be removed soon.\n",
      "  warnings.warn('SymbolDatabase.GetPrototype() is deprecated. Please '\n"
     ]
    },
    {
     "name": "stdout",
     "output_type": "stream",
     "text": [
      "CSV file created successfully!\n"
     ]
    }
   ],
   "source": [
    "import os\n",
    "import cv2\n",
    "import mediapipe as mp\n",
    "import numpy as np\n",
    "import pandas as pd\n",
    "\n",
    "# Initialize MediaPipe Pose\n",
    "mp_pose = mp.solutions.pose\n",
    "pose = mp_pose.Pose()\n",
    "\n",
    "# Function to extract keypoints from video\n",
    "def extract_keypoints_from_video(video_path):\n",
    "    cap = cv2.VideoCapture(video_path)\n",
    "    keypoints_list = []\n",
    "\n",
    "    while cap.isOpened():\n",
    "        ret, frame = cap.read()\n",
    "        if not ret:\n",
    "            break\n",
    "        \n",
    "        # Convert the frame to RGB (MediaPipe uses RGB)\n",
    "        image_rgb = cv2.cvtColor(frame, cv2.COLOR_BGR2RGB)\n",
    "        \n",
    "        # Process the frame to extract keypoints\n",
    "        results = pose.process(image_rgb)\n",
    "        \n",
    "        # Extract keypoints (33 landmarks with x, y, z coordinates)\n",
    "        if results.pose_landmarks:\n",
    "            keypoints = []\n",
    "            for landmark in results.pose_landmarks.landmark:\n",
    "                # Append (x, y, z) coordinates for each keypoint\n",
    "                keypoints.extend([landmark.x, landmark.y, landmark.z])\n",
    "        else:\n",
    "            keypoints = [0] * 99  # 33 landmarks * 3 coordinates (x, y, z) = 99 features\n",
    "        \n",
    "        keypoints_list.append(keypoints)\n",
    "\n",
    "    cap.release()\n",
    "    return keypoints_list\n",
    "\n",
    "# Path to folders\n",
    "folders = {\n",
    "    \"Squats\": \"D:\\DEPI Material\\DEPI_Project\\Squats\",\n",
    "    \"Push-ups\": \"D:\\DEPI Material\\DEPI_Project\\Push-ups\",\n",
    "    \"Bicep-curls\": \"D:\\DEPI Material\\DEPI_Project\\Biceps-curl\"\n",
    "}\n",
    "\n",
    "# List to hold all the extracted data\n",
    "data = []\n",
    "\n",
    "# Loop over each folder and extract keypoints\n",
    "for label, folder in folders.items():\n",
    "    for video_file in os.listdir(folder):\n",
    "        if video_file.endswith(\".mp4\"):  # Adjust if videos are in a different format\n",
    "            video_path = os.path.join(folder, video_file)\n",
    "            \n",
    "            # Extract keypoints\n",
    "            keypoints_list = extract_keypoints_from_video(video_path)\n",
    "            \n",
    "            # Add the label (class name) to each row of extracted keypoints\n",
    "            for keypoints in keypoints_list:\n",
    "                data.append([*keypoints, label])  # Append keypoints and the label (Squats, Push-ups, etc.)\n",
    "\n",
    "# Define column names: (x1, y1, z1, x2, y2, z2, ..., x33, y33, z33, target)\n",
    "columns = []\n",
    "for i in range(33):\n",
    "    columns.extend([f'x{i+1}', f'y{i+1}', f'z{i+1}'])  # Create columns in (x1, y1, z1) format\n",
    "columns.append('target')  # Add the target column (label)\n",
    "\n",
    "# Convert the data into a DataFrame\n",
    "df = pd.DataFrame(data, columns=columns)\n",
    "\n",
    "# Save the DataFrame to a CSV file\n",
    "df.to_csv('workout_data.csv', index=False)\n",
    "\n",
    "print(\"CSV file created successfully!\")\n"
   ]
  },
  {
   "cell_type": "code",
   "execution_count": 2,
   "metadata": {},
   "outputs": [],
   "source": [
    "import pandas as pd\n",
    "from sklearn.model_selection import train_test_split\n",
    "from sklearn.preprocessing import StandardScaler\n",
    "\n",
    "# Load the data from the CSV file\n",
    "df = pd.read_csv(r\"Workout_data.csv\")\n",
    "\n",
    "# Separate features and target\n",
    "X = df.drop('target', axis=1)  # Features (keypoints)\n",
    "y = df['target']  # Target (workout class)\n",
    "\n",
    "# Split the data into training and testing sets (e.g., 80% training, 20% testing)\n",
    "X_train, X_test, y_train, y_test = train_test_split(X, y, test_size=0.2, random_state=42)\n",
    "\n",
    "# Optional: Normalize the keypoints using StandardScaler (important for some models)\n",
    "scaler = StandardScaler()\n",
    "X_train_scaled = scaler.fit_transform(X_train)\n",
    "X_test_scaled = scaler.transform(X_test)\n"
   ]
  },
  {
   "cell_type": "code",
   "execution_count": 3,
   "metadata": {},
   "outputs": [
    {
     "name": "stdout",
     "output_type": "stream",
     "text": [
      "Test set accuracy: 99.26%\n"
     ]
    }
   ],
   "source": [
    "from sklearn.ensemble import RandomForestClassifier\n",
    "from sklearn.metrics import accuracy_score\n",
    "\n",
    "# Initialize the Random Forest classifier\n",
    "clf = RandomForestClassifier(n_estimators=100, random_state=42)\n",
    "\n",
    "# Train the classifier on the training set\n",
    "clf.fit(X_train_scaled, y_train)\n",
    "\n",
    "# Make predictions on the test set\n",
    "y_pred = clf.predict(X_test_scaled)\n",
    "\n",
    "# Calculate accuracy\n",
    "accuracy = accuracy_score(y_test, y_pred)\n",
    "print(f\"Test set accuracy: {accuracy * 100:.2f}%\")\n"
   ]
  },
  {
   "cell_type": "code",
   "execution_count": 7,
   "metadata": {},
   "outputs": [
    {
     "name": "stdout",
     "output_type": "stream",
     "text": [
      "Classification Report:\n",
      "              precision    recall  f1-score   support\n",
      "\n",
      " Bicep-curls       1.00      0.97      0.99      2568\n",
      "     Neutral       0.98      1.00      0.99      3120\n",
      "    Push-ups       1.00      1.00      1.00      1603\n",
      "      Squats       1.00      1.00      1.00      4149\n",
      "\n",
      "    accuracy                           0.99     11440\n",
      "   macro avg       0.99      0.99      0.99     11440\n",
      "weighted avg       0.99      0.99      0.99     11440\n",
      "\n",
      "Confusion Matrix:\n",
      "[[2496   67    1    4]\n",
      " [   1 3119    0    0]\n",
      " [   0    5 1598    0]\n",
      " [   2    5    0 4142]]\n"
     ]
    }
   ],
   "source": [
    "from sklearn.metrics import classification_report, confusion_matrix\n",
    "\n",
    "# Generate a classification report\n",
    "print(\"Classification Report:\")\n",
    "print(classification_report(y_test, y_pred))\n",
    "\n",
    "# Generate a confusion matrix\n",
    "print(\"Confusion Matrix:\")\n",
    "cm = confusion_matrix(y_test, y_pred)\n",
    "print(cm)\n"
   ]
  },
  {
   "cell_type": "code",
   "execution_count": 8,
   "metadata": {},
   "outputs": [
    {
     "data": {
      "image/png": "[encoded data removed]",
      "text/plain": [
       "<Figure size 800x600 with 1 Axes>"
      ]
     },
     "metadata": {},
     "output_type": "display_data"
    }
   ],
   "source": [
    "import seaborn as sns\n",
    "import matplotlib.pyplot as plt\n",
    "\n",
    "# Create a heatmap to visualize it\n",
    "plt.figure(figsize=(8,6))\n",
    "sns.heatmap(cm, annot=True, fmt='d', cmap='Blues', cbar=False)\n",
    "plt.xlabel('Predicted Label')\n",
    "plt.ylabel('True Label')\n",
    "plt.title('Confusion Matrix')\n",
    "plt.show()"
   ]
  },
  {
   "cell_type": "code",
   "execution_count": null,
   "metadata": {},
   "outputs": [],
   "source": []
  }
 ],
 "metadata": {
  "kernelspec": {
   "display_name": "base",
   "language": "python",
   "name": "python3"
  },
  "language_info": {
   "codemirror_mode": {
    "name": "ipython",
    "version": 3
   },
   "file_extension": ".py",
   "mimetype": "text/x-python",
   "name": "python",
   "nbconvert_exporter": "python",
   "pygments_lexer": "ipython3",
   "version": "3.9.13"
  }
 },
 "nbformat": 4,
 "nbformat_minor": 2
}
